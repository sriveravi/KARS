{
 "cells": [
  {
   "cell_type": "code",
   "execution_count": 71,
   "metadata": {
    "collapsed": false
   },
   "outputs": [
    {
     "name": "stdout",
     "output_type": "stream",
     "text": [
      "Populating the interactive namespace from numpy and matplotlib\n"
     ]
    },
    {
     "name": "stderr",
     "output_type": "stream",
     "text": [
      "WARNING: pylab import has clobbered these variables: ['f', 'copy', 'clf', 'cond']\n",
      "`%matplotlib` prevents importing * from pylab and numpy\n"
     ]
    }
   ],
   "source": [
    "import pandas as pd\n",
    "import numpy as np\n",
    "import os as os\n",
    "from copy import copy\n",
    "\n",
    "pd.set_option('display.max_columns', 500)\n",
    "\n",
    "%pylab inline"
   ]
  },
  {
   "cell_type": "code",
   "execution_count": 72,
   "metadata": {
    "collapsed": false
   },
   "outputs": [],
   "source": [
    "# read in data table\n",
    "\n",
    "# # baseline condition\n",
    "# cond = 'BL'\n",
    "# outDir = 'FeatSeenBySubBaseline/'\n",
    "# outDirIdeal = 'FeatIdealBL/'\n",
    "# f = '../allFixTable_KARS_Base.txt'\n",
    "# labInd = [False]*52\n",
    "\n",
    "# # label conditione\n",
    "# cond = 'Label'\n",
    "# outDir = 'FeatSeenBySubLabel/'\n",
    "# outDirIdeal = 'FeatIdealLabel/'\n",
    "# f = '../allFixTable_KARS_Lab.txt'\n",
    "# labInd = [ True]*12 + [True, True, False, False, True,True,False,False, True,True,False,False]*3\n",
    "\n",
    "# diff reinforcement supervised condition\n",
    "cond = 'Sup'\n",
    "outDir = 'FeatSeenBySubSup/'\n",
    "outDirIdeal = 'FeatIdealSup/'\n",
    "f = '../allFixTable_KARS_SUP.txt'\n",
    "labInd = [ True]*12 + [True, True, False, False, True,True,False,False, True,True,False,False]*3\n",
    "\n",
    "# # ADULT baseline condition\n",
    "# cond = 'AdultBL'\n",
    "# outDir = 'FeatSeenBySubAdultBL/'\n",
    "# outDirIdeal = 'FeatIdealAdultBL/'\n",
    "# f = '../allFixTable_KARS_AdultBase.txt'\n",
    "# labInd = [False]*52\n",
    "\n",
    "# # ADULT SUPervised condition\n",
    "# cond = 'AdultSUP'\n",
    "# outDir = 'FeatSeenBySubAdultSUP/'\n",
    "# outDirIdeal = 'FeatIdealAdultSUP/'\n",
    "# f = '../allFixTable_KARS_AdultSup.txt'\n",
    "# labInd = [ True]*12 + [True, True, False, False, True,True,False,False, True,True,False,False]*3\n",
    "\n",
    "\n",
    "\n",
    "# df = pd.read_pickle( 'dfBehavKARSAll.p')  \n",
    "df = pd.read_csv( f, sep='\\t',low_memory=False )\n",
    "#df"
   ]
  },
  {
   "cell_type": "code",
   "execution_count": 73,
   "metadata": {
    "collapsed": false
   },
   "outputs": [
    {
     "data": {
      "text/plain": [
       "Index([u'breakIndicator', u'trial', u'loomvid', u'loomimg', u'engager',\n",
       "       u'goleft', u'sound', u'break_vid_num', u'look_loc', u'look_rt', u'acc',\n",
       "       u'soundPlayed', u'subId', u'fixX', u'fixY', u'pupil', u'fixDuration',\n",
       "       u'fixStart', u'fixEnd', u'sacEndPosX', u'sacEndPosY', u'sacStartPosX',\n",
       "       u'sacStartPosY', u'sacStartTime', u'sacEndTime', u'sacVel',\n",
       "       u'sacDuration', u'sacAmp', u'fixAois', u'sacAois', u'lastMessage'],\n",
       "      dtype='object')"
      ]
     },
     "execution_count": 73,
     "metadata": {},
     "output_type": "execute_result"
    }
   ],
   "source": [
    "df.columns"
   ]
  },
  {
   "cell_type": "code",
   "execution_count": 74,
   "metadata": {
    "collapsed": false
   },
   "outputs": [],
   "source": [
    "# keep only fixations at background image.  Kick out saccade data\n",
    "# df.drop(['sacEndPosX','sacEndPosY','sacStartPosX', 'sacStartPosY','sacStartTime','sacEndTime','sacVel', 'sacDuration','sacAmp','sacAois'], axis=1, inplace=True)\n",
    "# df.drop(['loomimg'], axis=1, inplace=True)\n",
    "df = df[['subId','trial','loomvid','fixDuration','fixAois','pupil','lastMessage', 'acc','look_loc','look_rt', 'fixX', 'fixY', 'fixStart', 'fixEnd', 'sacEndPosX', 'sacEndPosY', 'sacStartPosX', 'sacStartPosY', 'sacStartTime', 'sacEndTime', 'sacVel']] \n",
    "\n",
    "\n",
    "\n"
   ]
  },
  {
   "cell_type": "code",
   "execution_count": 75,
   "metadata": {
    "collapsed": false
   },
   "outputs": [],
   "source": [
    "# df.columns .sort()\n",
    "# df.fixAois.values\n",
    "# df\n",
    "# dfAnon"
   ]
  },
  {
   "cell_type": "code",
   "execution_count": 76,
   "metadata": {
    "collapsed": false
   },
   "outputs": [],
   "source": [
    "# map the fixAOIs to the feature index  (in that direction)\n",
    "aoiDict= {'1':1, '2':2, '3':4, '4':7, '5':4, '6':6, '7':5, '-1':np.nan,'8':np.nan, np.nan:np.nan  }\n",
    "'''\n",
    "            AOI ->  fileNameIndex\n",
    "     ----------------------\n",
    "    antenna 1 -> 1\n",
    "    mouth   2 -> 2\n",
    "    hand    3 -> 4\n",
    "    back/body 4-> 7  ( back actually fileNameIndex 3, and ignored. Using just index 7 for the body feature)    \n",
    "    hand    5 -> 4\n",
    "    tail    6 -> 6 \n",
    "    feet    7 -> 5\n",
    "    \n",
    "'''\n",
    "\n",
    "\n",
    "# get feature vector name (loomvid)\n",
    "df['featVect'] = df.loomvid.apply(lambda(x): x.split('_')[2] )\n",
    "df.drop( 'loomvid', axis=1, inplace=True)\n",
    "\n",
    "# tag the extra features to it\n",
    "catLabTag = { 'R':'00B','Q':'11A' } # add color, label, catLetter for figure drawing (A/B)\n",
    "df['longFeatVect'] = df.featVect.apply( lambda(x): x[1:]+catLabTag[x[0]])\n",
    "df = df.reset_index()\n",
    "\n",
    "# note if they are labeled trials\n",
    "df['isLabeled'] = df.trial.apply(lambda(x):labInd[x-1] )\n",
    "\n",
    "# set to NAN when participants did not make response\n",
    "df.ix[df.look_rt ==-1,'acc' ] = np.nan\n",
    "df.ix[df.look_rt ==-1,'look_rt' ] = np.nan\n",
    "df.ix[df.look_rt ==-1,'look_loc' ] = np.nan\n",
    "df.drop( 'index', axis=1, inplace=True)\n",
    "\n",
    "# convert fixation AOS to name feature index \n",
    "df.ix[df.fixAois.isnull(),'fixAois'] = -1  # make non fixations -1 to make nans for name feature\n",
    "df['nameFeatIdx' ] = df.fixAois.apply( lambda(x): aoiDict[str(int(x))] )\n",
    "\n",
    "\n",
    "#output anonymized raw data\n",
    "# anonymize\n",
    "dfAnon = df.copy()\n",
    "count = 0\n",
    "for s in dfAnon.subId.unique():\n",
    "    count+= 1\n",
    "    dfAnon.ix[dfAnon.subId==s ,'subId'] = ('sub%d'% count)\n",
    "dfAnon.to_csv( 'KARSGaze_Anon' + cond + '.txt', sep=',', index=False)   \n",
    "\n",
    "\n",
    "\n",
    "#----------------\n",
    "# get the trial information, for idealized analysis not considering where participant looking\n",
    "dfIdeal = df.groupby( ['subId','trial'], as_index=False).head(1).reset_index().drop('index', axis=1)\n",
    "\n",
    "#-----------------\n",
    "\n",
    "# get just for during the static background (most analysis based on this)\n",
    "df = df[ df.lastMessage == 'BackgroundFrame']\n",
    "df = df[ df.fixAois.notnull()]  # remove non-AOI fixations\n",
    "df = df[ df.nameFeatIdx.notnull()] # drop non-feature looks\n",
    "\n",
    "\n",
    "\n",
    "\n",
    "\n"
   ]
  },
  {
   "cell_type": "code",
   "execution_count": 77,
   "metadata": {
    "collapsed": false
   },
   "outputs": [],
   "source": [
    "# df\n",
    "# dfAnon\n",
    "\n",
    "# dfIdeal\n",
    "\n",
    "#.reset_index() #.drop('index', inplace=True)"
   ]
  },
  {
   "cell_type": "code",
   "execution_count": 78,
   "metadata": {
    "collapsed": false
   },
   "outputs": [],
   "source": [
    "# save a csv text file for each participant based on what they saw on each trial, as well as accuracy\n",
    "\n",
    "\n",
    "def mkSOMTable( df, outDir, removeLabeled = False, useGaze = True):\n",
    "    ''' this makes a csv table of feature values for every exemplar seen by participants during the study.\n",
    "        If useGaze == False, then it will return all the features without setting to 0.5 those not fixated.\n",
    "        if removeLabeled == True, will omit trials that were labeled (not test trials)\n",
    "    '''\n",
    "    if not os.path.exists( outDir):\n",
    "        os.mkdir(outDir)\n",
    "\n",
    "    # go through every subject and trial, make a by subject  feature matrix\n",
    "    cols = ['Antenna','Mouth','Back','Hand','Feet','Tail','Body','Color','Label', 'category', 'accuracy', 'isLabeled']\n",
    "\n",
    "    for s in df.subId.unique():\n",
    "        # to store all feature vectors seen for a participant\n",
    "        subFeats = []\n",
    "\n",
    "        f = open( outDir+s+'.csv', 'w')\n",
    "        f.write( ','.join(cols) + '\\n' )\n",
    "        for t in df[ df.subId ==s].trial.unique():\n",
    "            tr = df[(df.subId ==s) & (df.trial ==t)  ]\n",
    "\n",
    "            \n",
    "            # get unseen features            \n",
    "            if useGaze:\n",
    "                missed = range(1,8)\n",
    "                missed = [ x for x in missed if x not in tr.nameFeatIdx.unique()]\n",
    "            else:\n",
    "                missed = []\n",
    "                \n",
    "            # make the unseen ones .5 in long feature vector\n",
    "            longFeat = list(tr.longFeatVect.iloc[0])\n",
    "            for m in missed:\n",
    "                longFeat[m-1] = '0.5'\n",
    "            longFeat = ','.join(longFeat) #.split(',')\n",
    "            if removeLabeled:\n",
    "                if tr.isLabeled.iloc[0]: # if trial labeled\n",
    "                    acc= np.nan\n",
    "                else:\n",
    "                    acc = tr.acc.iloc[0]\n",
    "            else:\n",
    "                acc = tr.acc.iloc[0]\n",
    "\n",
    "            f.write( longFeat +',' + str(acc) + ',' + str(tr.isLabeled.iloc[0]) +'\\n')  #features and accuracy\n",
    "    #         subFeats.append(longFeat)\n",
    "        f.close()\n",
    "\n",
    "#------------------------------------\n",
    "\n",
    "mkSOMTable( df, outDir, removeLabeled = False, useGaze = True)\n",
    "mkSOMTable( dfIdeal, outDirIdeal, removeLabeled = False, useGaze =False)\n",
    "        \n",
    "        \n",
    "    # make and export dataframe    \n",
    "#     subDF = pd.DataFrame( subFeats, columns=cols)  \n",
    "#     subDF.to_csv( outDir+s+'.csv',sep=',', index=False )\n",
    "    \n",
    "  "
   ]
  },
  {
   "cell_type": "code",
   "execution_count": 79,
   "metadata": {
    "collapsed": false
   },
   "outputs": [
    {
     "data": {
      "text/plain": [
       "'nan'"
      ]
     },
     "execution_count": 79,
     "metadata": {},
     "output_type": "execute_result"
    }
   ],
   "source": [
    "str(np.nan)"
   ]
  },
  {
   "cell_type": "code",
   "execution_count": 80,
   "metadata": {
    "collapsed": false
   },
   "outputs": [],
   "source": [
    "# get histogram of where participants look, and their corresponding accuracy on the experiment\n",
    "\n",
    "N = df.subId.unique().shape[0]\n",
    "lookList = np.zeros( (N,7))  *np.nan  #  where looked\n",
    "accList = np.zeros( N) * np.nan       # accuracy\n",
    "\n",
    "for idx,s in enumerate(df.subId.unique()):\n",
    "    sub = df[ df.subId == s]\n",
    "    #     h = sub.nameFeatIdx.value_counts()\n",
    "    lookList[idx,:], bins = np.histogram( sub.nameFeatIdx, bins=np.arange(1,9,1), normed=True)\n",
    "    accList[idx] = nanmean( sub.groupby('trial').head(1).acc )\n",
    "\n",
    "# drop the rows where there was a nan for accuracy    \n",
    "lookList = lookList[ ~isnan(accList),:]\n",
    "accList = accList[ ~isnan(accList) ]"
   ]
  },
  {
   "cell_type": "code",
   "execution_count": 81,
   "metadata": {
    "collapsed": false
   },
   "outputs": [
    {
     "name": "stdout",
     "output_type": "stream",
     "text": [
      "('Coefficients: \\n', array([  1.05963449e-01,  -7.20916169e-02,  -1.56700031e-16,\n",
      "        -9.78722501e-02,   5.51582815e-01,  -2.66494262e-01,\n",
      "        -2.21088136e-01]))\n",
      "Residual sum of squares: 0.01\n",
      "Variance score: 0.17\n"
     ]
    },
    {
     "data": {
      "image/png": "[encoded data removed]",
      "text/plain": [
       "<matplotlib.figure.Figure at 0x10946e150>"
      ]
     },
     "metadata": {},
     "output_type": "display_data"
    }
   ],
   "source": [
    "\n",
    "# see if where subjects look say anything about whether they learn or not\n",
    "from sklearn import linear_model\n",
    "\n",
    "# print h, bins\n",
    "# print lookList\n",
    "# print accList\n",
    "\n",
    "# Create linear regression object\n",
    "regr = linear_model.LinearRegression()\n",
    "\n",
    "# Train the model using the training sets\n",
    "regr.fit(lookList, accList)\n",
    "\n",
    "# The coefficients\n",
    "print('Coefficients: \\n', regr.coef_)\n",
    "# The mean square error\n",
    "print(\"Residual sum of squares: %.2f\"\n",
    "      % np.mean((regr.predict(lookList) - accList) ** 2))\n",
    "# Explained variance score: 1 is perfect prediction\n",
    "print('Variance score: %.2f' % regr.score(lookList, accList))\n",
    "\n",
    "# Plot outputs\n",
    "# plt.scatter(lookList, accList,  color='black')\n",
    "plt.plot(accList, regr.predict(lookList), '*',color='blue',\n",
    "         linewidth=3)\n",
    "\n",
    "plt.xticks(())\n",
    "plt.yticks(())\n",
    "\n",
    "plt.show()\n",
    "\n"
   ]
  },
  {
   "cell_type": "code",
   "execution_count": 82,
   "metadata": {
    "collapsed": false
   },
   "outputs": [
    {
     "name": "stdout",
     "output_type": "stream",
     "text": [
      "PCA variance ratio\n",
      "[ 0.49951747  0.21091897]\n",
      "Percent categorized as learners: 0.91\n",
      "Mean accuracy: 0.91\n",
      "mean support vector [ 0.54204978  0.31861589]\n",
      "predicted values\n"
     ]
    },
    {
     "data": {
      "text/plain": [
       "array([ 1.,  1.,  1.,  1.,  1.,  1.,  1.,  1.,  1.,  1.,  1.,  1.,  1.,\n",
       "        1.,  1.,  1.,  1.,  1.,  1.,  1.,  1.,  1.,  1.,  1.,  1.,  1.,\n",
       "        1.,  1.,  1.,  1.,  1.,  1.,  1.])"
      ]
     },
     "execution_count": 82,
     "metadata": {},
     "output_type": "execute_result"
    }
   ],
   "source": [
    "\n",
    "from sklearn import svm\n",
    "from sklearn.decomposition import PCA\n",
    "\n",
    "pca = PCA(n_components=2, whiten=True)\n",
    "X = pca.fit_transform(lookList)\n",
    "# PCA(copy=True, n_components=2, whiten=False)\n",
    "print 'PCA variance ratio'\n",
    "print(pca.explained_variance_ratio_) \n",
    "\n",
    "\n",
    "# split into learner/non-learners\n",
    "thresh = .65\n",
    "\n",
    "# X gotten above by PCA\n",
    "# X = copy(lookList)  \n",
    "y = copy( accList )\n",
    "y[accList >thresh] = 1\n",
    "y[accList <=thresh] = 0\n",
    "print('Percent categorized as learners: %.2f' %  mean(y))\n",
    "\n",
    "# Train SVM and look at learned model\n",
    "clf = svm.SVC(kernel='linear', class_weight={1:1,0:1 })\n",
    "clf.fit(X, y)\n",
    "print( 'Mean accuracy: %.2f' % clf.score(X, y) )\n",
    "print 'mean support vector', clf.support_vectors_.mean(axis=0)\n",
    "print 'predicted values'\n",
    "clf.predict( X)\n",
    "\n",
    "# lookList\n",
    "# nanmean( accList)"
   ]
  },
  {
   "cell_type": "code",
   "execution_count": 83,
   "metadata": {
    "collapsed": false
   },
   "outputs": [
    {
     "data": {
      "text/plain": [
       "<matplotlib.legend.Legend at 0x107558950>"
      ]
     },
     "execution_count": 83,
     "metadata": {},
     "output_type": "execute_result"
    },
    {
     "data": {
      "image/png": "[encoded data removed]",
      "text/plain": [
       "<matplotlib.figure.Figure at 0x102a507d0>"
      ]
     },
     "metadata": {},
     "output_type": "display_data"
    }
   ],
   "source": [
    "# figure(1)\n",
    "plot( X[y==1,0], X[y==1,1], 'g*', label='learner' )\n",
    "plot( X[y==0,0], X[y==0,1], 'r+', label='non-learner' )\n",
    "legend()"
   ]
  },
  {
   "cell_type": "code",
   "execution_count": 84,
   "metadata": {
    "collapsed": false
   },
   "outputs": [],
   "source": [
    "# lookList"
   ]
  },
  {
   "cell_type": "code",
   "execution_count": 85,
   "metadata": {
    "collapsed": false
   },
   "outputs": [],
   "source": [
    "# clf.support_vectors_\n",
    "# clf.n_support_\n",
    "\n",
    "# print cols[:7]\n",
    "# print mean( X[y==1,:], axis=0)\n",
    "# print mean( X[y==0,:], axis=0)"
   ]
  },
  {
   "cell_type": "code",
   "execution_count": 86,
   "metadata": {
    "collapsed": false
   },
   "outputs": [],
   "source": [
    "# df"
   ]
  },
  {
   "cell_type": "code",
   "execution_count": null,
   "metadata": {
    "collapsed": false
   },
   "outputs": [],
   "source": [
    " "
   ]
  },
  {
   "cell_type": "code",
   "execution_count": 87,
   "metadata": {
    "collapsed": false
   },
   "outputs": [],
   "source": [
    "# df"
   ]
  },
  {
   "cell_type": "code",
   "execution_count": null,
   "metadata": {
    "collapsed": false
   },
   "outputs": [],
   "source": []
  }
 ],
 "metadata": {
  "kernelspec": {
   "display_name": "Python 2",
   "language": "python",
   "name": "python2"
  },
  "language_info": {
   "codemirror_mode": {
    "name": "ipython",
    "version": 2
   },
   "file_extension": ".py",
   "mimetype": "text/x-python",
   "name": "python",
   "nbconvert_exporter": "python",
   "pygments_lexer": "ipython2",
   "version": "2.7.11"
  }
 },
 "nbformat": 4,
 "nbformat_minor": 0
}
