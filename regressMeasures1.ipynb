{
 "metadata": {
  "name": "",
  "signature": "sha256:3d5d4dc6bd3ade83329317a2bfc66ced735a27d074f4085b86c5313b4b85a1f2"
 },
 "nbformat": 3,
 "nbformat_minor": 0,
 "worksheets": [
  {
   "cells": [
    {
     "cell_type": "code",
     "collapsed": false,
     "input": [
      "import pandas as pd\n",
      "import numpy as np\n",
      "\n",
      "%pylab inline\n",
      "\n",
      "pd.set_option('display.max_columns', 500)"
     ],
     "language": "python",
     "metadata": {},
     "outputs": [
      {
       "output_type": "stream",
       "stream": "stdout",
       "text": [
        "Populating the interactive namespace from numpy and matplotlib\n"
       ]
      }
     ],
     "prompt_number": 4
    },
    {
     "cell_type": "code",
     "collapsed": false,
     "input": [
      "lrnFile ='subLrnSummary.txt'\n",
      "execFile = '../../../AttentionControl/Analysis/Python/execScoresCompiled.txt'\n",
      "vocFile = 'vocabCompiled.csv'"
     ],
     "language": "python",
     "metadata": {},
     "outputs": [],
     "prompt_number": 5
    },
    {
     "cell_type": "code",
     "collapsed": false,
     "input": [
      "# load exec measures frame\n",
      "dfEx = pd.read_csv( execFile, sep='\\t')\n",
      "dfEx.drop(['Unnamed: 0'], axis=1, inplace=True)\n",
      "\n",
      "# dfEx.set_index('subid', inplace=True)\n",
      "# dfEx"
     ],
     "language": "python",
     "metadata": {},
     "outputs": [],
     "prompt_number": 6
    },
    {
     "cell_type": "code",
     "collapsed": false,
     "input": [
      "# load learning frame\n",
      "dfLrn = pd.read_csv( lrnFile, sep=',' )\n",
      "dfLrn = dfLrn[ dfLrn.age < 35]\n",
      "dfLrn.ix[ dfLrn.age==-1  ,'age' ] = np.nan\n",
      "# dfLrn.set_index('subid', inplace=True)\n",
      "# dfLrn"
     ],
     "language": "python",
     "metadata": {},
     "outputs": [],
     "prompt_number": 7
    },
    {
     "cell_type": "code",
     "collapsed": false,
     "input": [
      "# load vocab frame\n",
      "dfVoc = pd.read_csv( vocFile, sep=',' )\n",
      "dfVoc.rename(columns={'Participant #':'subid', 'Percentile Recep(human)':'recepPercentile', 'Percentile Prod (human)':'prodPercentile'}, inplace=True)\n",
      "dfVoc = dfVoc[ dfVoc.subid != '  ']\n",
      "\n",
      "# make subID integers so they play nice\n",
      "dfVoc[ 'subid'] = dfVoc.subid.astype(int)\n"
     ],
     "language": "python",
     "metadata": {},
     "outputs": [],
     "prompt_number": 8
    },
    {
     "cell_type": "code",
     "collapsed": false,
     "input": [
      "# combine\n",
      "dfComb = dfEx.merge( dfLrn, how='outer' ) # on='subid' )\n",
      "dfComb  = dfComb.merge( dfVoc, how='outer')\n",
      "\n",
      "# dfComb2 = dfComb.merge( dfVoc, left_on= 'subid')\n",
      "# dfComb"
     ],
     "language": "python",
     "metadata": {},
     "outputs": [],
     "prompt_number": 9
    },
    {
     "cell_type": "code",
     "collapsed": false,
     "input": [
      "# dfComb.subid.dtype"
     ],
     "language": "python",
     "metadata": {},
     "outputs": [],
     "prompt_number": 269
    },
    {
     "cell_type": "code",
     "collapsed": false,
     "input": [
      "# dfVoc.subid.unique()"
     ],
     "language": "python",
     "metadata": {},
     "outputs": [],
     "prompt_number": 270
    },
    {
     "cell_type": "code",
     "collapsed": false,
     "input": [],
     "language": "python",
     "metadata": {},
     "outputs": [],
     "prompt_number": 270
    },
    {
     "cell_type": "code",
     "collapsed": false,
     "input": [
      "dfComb.columns"
     ],
     "language": "python",
     "metadata": {},
     "outputs": [
      {
       "metadata": {},
       "output_type": "pyout",
       "prompt_number": 271,
       "text": [
        "Index([u'subid', u'mem_respLatency', u'mem_propCorr', u'ageInMonths', u'rctTime_gap1.0', u'rctTime_gap2.0', u'rctTime_gap3.0', u'birds_RxnTime', u'birds_RTDropTo2nd', u'birds_firstLookWrong', u'birds_meanTrial', u'acc', u'age', u'condLab', u'peakBlock', u'maxBlock', u'isLearner', u'pVal', u'DOB', u'Date of test', u'Age at test days)', u'Gender', u'HRV_abs', u'Total words (perceive)', u'recepPercentile', u'Percentile (perceive)', u'Total words (produce)', u'prodPercentile', u'Percentile (produce)', u'choo choo', u'meow', u'ouch', u'uh oh', u'bird', u'dog', u'duck', u'kitty', u'lion', u'mouse', u'car', u'stroller', u'ball', u'book', u'doll', u'bread', u'candy', u'cereal', u'cookie', u'juice', u'toast', u'hat', u'pants', u'shoe', u'sock', u'eye', u'head', u'leg', u'nose', u'tooth', u'chair', u'couch', u'kitchen', u'table', u'television', u'blanket', u'bottle', u'cup', u'dish', u'lamp', u'radio', u'spoon', u'flower', u'home', u'moon', u'outside', u'plant', u'rain', u'rock', u'water', u'babysitter', u'girl', u'grandma', u'mommy', u'bath', u'don't', u'hi', u'night night', u'patty cake', u'please', u'wait', u'break', u'feed', u'finish', u'help', u'jump', u'kick', u'kiss', u'push', u'sing', u'smile', ...], dtype='object')"
       ]
      }
     ],
     "prompt_number": 271
    },
    {
     "cell_type": "code",
     "collapsed": false,
     "input": [
      "# dfLrn"
     ],
     "language": "python",
     "metadata": {},
     "outputs": [],
     "prompt_number": 272
    },
    {
     "cell_type": "code",
     "collapsed": false,
     "input": [
      "import statsmodels.api as sm\n",
      "import statsmodels.formula.api as smf\n",
      "\n",
      "data = dfComb[['age','birds_RTDropTo2nd', 'isLearner' ] ].dropna().values\n",
      "\n",
      "# data = dfComb[['age','birds_RTDropTo2nd', 'isLearner', 'recepPercentile' ] ].dropna().values\n",
      "\n",
      "# data = dfComb[['age', 'isLearner' ] ].dropna().values\n",
      "X = data[ :,:2]\n",
      "y = data[:,2]\n",
      "\n",
      "\n",
      "\n",
      "# # data = dfLrn[[ 'age', 'isLearner']].dropna().values\n",
      "# X = data[ :,:1]\n",
      "# y = data[:,1]\n",
      "\n",
      "\n",
      "\n",
      "X2 = sm.add_constant(X)\n",
      "\n",
      "\n",
      "\n",
      "\n",
      "# Logit Model\n",
      "logit_mod = sm.Logit(y, X2)\n",
      "logit_res = logit_mod.fit()\n",
      "print logit_res.summary()\n",
      "\n",
      "\n",
      "# estimate Y and get binary decision rule\n",
      "yHat=  logit_mod.predict(logit_res.params)  \n",
      "yBin = np.ones( yHat.shape)\n",
      "yBin[ yHat < .5] = 0\n",
      "\n",
      "\n",
      "print(metrics.classification_report(y, yBin))\n",
      "print(metrics.confusion_matrix(y, yBin))"
     ],
     "language": "python",
     "metadata": {},
     "outputs": [
      {
       "output_type": "stream",
       "stream": "stdout",
       "text": [
        "Optimization terminated successfully.\n",
        "         Current function value: 0.563819\n",
        "         Iterations 6\n",
        "                           Logit Regression Results                           \n",
        "==============================================================================\n",
        "Dep. Variable:                      y   No. Observations:                   20\n",
        "Model:                          Logit   Df Residuals:                       17\n",
        "Method:                           MLE   Df Model:                            2\n",
        "Date:                Thu, 24 Sep 2015   Pseudo R-squ.:                 0.07701\n",
        "Time:                        15:18:03   Log-Likelihood:                -11.276\n",
        "converged:                       True   LL-Null:                       -12.217\n",
        "                                        LLR p-value:                    0.3903\n",
        "==============================================================================\n",
        "                 coef    std err          z      P>|z|      [95.0% Conf. Int.]\n",
        "------------------------------------------------------------------------------\n",
        "const         -0.5744      1.665     -0.345      0.730        -3.837     2.689\n",
        "x1            -0.0048      0.096     -0.050      0.960        -0.192     0.183\n",
        "x2             0.7634      0.595      1.283      0.199        -0.403     1.929\n",
        "==============================================================================\n",
        "             precision    recall  f1-score   support\n",
        "\n",
        "        0.0       0.74      1.00      0.85        14\n",
        "        1.0       1.00      0.17      0.29         6\n",
        "\n",
        "avg / total       0.82      0.75      0.68        20\n",
        "\n",
        "[[14  0]\n",
        " [ 5  1]]\n"
       ]
      },
      {
       "output_type": "stream",
       "stream": "stderr",
       "text": [
        "/usr/local/lib/python2.7/dist-packages/pandas/core/common.py:276: DeprecationWarning: numpy boolean negative (the unary `-` operator) is deprecated, use the bitwise_xor (the `^` operator) or the logical_xor function instead.\n",
        "  return -res\n"
       ]
      }
     ],
     "prompt_number": 273
    },
    {
     "cell_type": "code",
     "collapsed": false,
     "input": [
      "# plot it\n",
      "# def model(x):\n",
      "#     return 1 / (1 + np.exp(-x))\n",
      "# yHat =  model(xHat) #.ravel()\n",
      "\n",
      "xHat = np.dot(X2, logit_res.params)\n",
      "yHat=  logit_mod.predict(logit_res.params)                   \n",
      "plot(xHat, yHat, '*',color='blue' )\n",
      "plot( xHat, y, 'go')\n"
     ],
     "language": "python",
     "metadata": {},
     "outputs": [
      {
       "metadata": {},
       "output_type": "pyout",
       "prompt_number": 274,
       "text": [
        "[<matplotlib.lines.Line2D at 0x87dde10>]"
       ]
      },
      {
       "metadata": {},
       "output_type": "display_data",
       "png": "[encoded data removed]",
       "text": [
        "<matplotlib.figure.Figure at 0x8306dd0>"
       ]
      }
     ],
     "prompt_number": 274
    },
    {
     "cell_type": "code",
     "collapsed": false,
     "input": [],
     "language": "python",
     "metadata": {},
     "outputs": [],
     "prompt_number": 274
    },
    {
     "cell_type": "code",
     "collapsed": false,
     "input": [],
     "language": "python",
     "metadata": {},
     "outputs": [],
     "prompt_number": 277
    },
    {
     "cell_type": "code",
     "collapsed": false,
     "input": [
      "logitTest = smf.logit( 'isLearner ~ age + recepPercentile + prodPercentile', data = dfComb ).fit()  #recepPercentile\n",
      "print logitTest.summary()"
     ],
     "language": "python",
     "metadata": {},
     "outputs": [
      {
       "output_type": "stream",
       "stream": "stdout",
       "text": [
        "Optimization terminated successfully.\n",
        "         Current function value: 0.574175\n",
        "         Iterations 6\n",
        "                           Logit Regression Results                           \n",
        "==============================================================================\n",
        "Dep. Variable:              isLearner   No. Observations:                   33\n",
        "Model:                          Logit   Df Residuals:                       29\n",
        "Method:                           MLE   Df Model:                            3\n",
        "Date:                Thu, 24 Sep 2015   Pseudo R-squ.:                 0.09794\n",
        "Time:                        15:18:28   Log-Likelihood:                -18.948\n",
        "converged:                       True   LL-Null:                       -21.005\n",
        "                                        LLR p-value:                    0.2494\n",
        "===================================================================================\n",
        "                      coef    std err          z      P>|z|      [95.0% Conf. Int.]\n",
        "-----------------------------------------------------------------------------------\n",
        "Intercept          -2.3275      1.551     -1.501      0.133        -5.367     0.712\n",
        "age                 0.1266      0.099      1.279      0.201        -0.067     0.321\n",
        "recepPercentile    -0.0090      0.015     -0.610      0.542        -0.038     0.020\n",
        "prodPercentile      0.0136      0.013      1.062      0.288        -0.012     0.039\n",
        "===================================================================================\n"
       ]
      }
     ],
     "prompt_number": 278
    },
    {
     "cell_type": "code",
     "collapsed": false,
     "input": [],
     "language": "python",
     "metadata": {},
     "outputs": [],
     "prompt_number": 276
    },
    {
     "cell_type": "code",
     "collapsed": false,
     "input": [],
     "language": "python",
     "metadata": {},
     "outputs": [],
     "prompt_number": 254
    }
   ],
   "metadata": {}
  }
 ]
}