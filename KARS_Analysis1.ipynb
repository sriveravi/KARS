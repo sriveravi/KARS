{
 "cells": [
  {
   "cell_type": "code",
   "execution_count": 108,
   "metadata": {
    "collapsed": false
   },
   "outputs": [
    {
     "name": "stdout",
     "output_type": "stream",
     "text": [
      "Populating the interactive namespace from numpy and matplotlib\n"
     ]
    },
    {
     "name": "stderr",
     "output_type": "stream",
     "text": [
      "WARNING: pylab import has clobbered these variables: ['plt', 'cond']\n",
      "`%matplotlib` prevents importing * from pylab and numpy\n"
     ]
    }
   ],
   "source": [
    "import pandas as pd\n",
    "import scipy.stats as stats\n",
    "import numpy as np\n",
    "\n",
    "import matplotlib as plt\n",
    "\n",
    "%pylab inline"
   ]
  },
  {
   "cell_type": "code",
   "execution_count": 109,
   "metadata": {
    "collapsed": false
   },
   "outputs": [],
   "source": [
    "# load up all the raw data from all the KARS conditions (Baseline, label, supervised )\n",
    "\n",
    "df = pd.read_pickle('dfBehavKARSAll.p')"
   ]
  },
  {
   "cell_type": "code",
   "execution_count": 110,
   "metadata": {
    "collapsed": false,
    "scrolled": true
   },
   "outputs": [],
   "source": [
    "df['logRT'] = np.log( df.RT)\n",
    "\n",
    "# start looking from 2nd block, only accurate, unlabled trials for children\n",
    "dfNoLabOnlyCorrect = df[ (df.isLabeled == False) & (df.ageGrps != 'Adult') & (df.pracBlock > 1)] # & (df.acc == 1) ]  \n",
    "\n",
    "dfCorrectBySub= dfNoLabOnlyCorrect.groupby(['ageGrps', 'condLab', 'subid']).mean().reset_index()\n",
    "dfCorrectByCond= dfNoLabOnlyCorrect.groupby(['ageGrps', 'condLab']).mean()\n",
    "# dfCorrectBySub"
   ]
  },
  {
   "cell_type": "code",
   "execution_count": 116,
   "metadata": {
    "collapsed": false
   },
   "outputs": [
    {
     "name": "stdout",
     "output_type": "stream",
     "text": [
      "Checking for differences of log(RT)\n",
      "Age group3, One way ANOVA, f-val=0.0899,  p-val=0.9142\n",
      "Age group2, One way ANOVA, f-val=0.1093,  p-val=0.8968\n"
     ]
    }
   ],
   "source": [
    "# Check for RT differences\n",
    "# \n",
    "# get natural log(RT) for the different conditions\n",
    "print( 'Checking for differences of log(RT)')\n",
    "for age in ['group3', 'group2']:\n",
    "    grps = []\n",
    "    for cond in [0,1,2]:\n",
    "        grps.append( dfCorrectBySub[(dfCorrectBySub.condLab == cond) & (dfCorrectBySub.ageGrps == age )].logRT) \n",
    "\n",
    "    f_val,p_val = stats.f_oneway( *grps)\n",
    "    print( 'Age %s, One way ANOVA, f-val=%.4f,  p-val=%.4f' %(age, f_val, p_val)  )\n",
    "    "
   ]
  },
  {
   "cell_type": "code",
   "execution_count": 112,
   "metadata": {
    "collapsed": false
   },
   "outputs": [
    {
     "data": {
      "text/plain": [
       "<matplotlib.legend.Legend at 0x1097fb190>"
      ]
     },
     "execution_count": 112,
     "metadata": {},
     "output_type": "execute_result"
    },
    {
     "data": {
      "image/png": "[encoded data removed]",
      "text/plain": [
       "<matplotlib.figure.Figure at 0x109d1fed0>"
      ]
     },
     "metadata": {},
     "output_type": "display_data"
    }
   ],
   "source": [
    "figure( 1, figsize=(10,4))\n",
    "\n",
    "for age in [ 'group2', 'group3' ]:\n",
    "    x = dfCorrectBySub[dfCorrectBySub.ageGrps == age ].groupby(['condLab' ]).mean().reset_index()\n",
    "    subplot(121)\n",
    "    plot( x.condLab, x.logRT, label=age)\n",
    "    subplot(122)    \n",
    "    plot( x.condLab, x.acc, label=age)\n",
    "\n",
    "\n",
    "subplot(121)    \n",
    "xticks([0,1,2], ['baseline', 'label', 'sup'], fontsize=12)\n",
    "ylabel( 'log(RT)', fontsize=14)\n",
    "\n",
    "subplot(122)\n",
    "xticks([0,1,2], ['baseline', 'label', 'sup'], fontsize=12)\n",
    "ylabel( 'acc', fontsize=14)\n",
    "legend()\n",
    "\n",
    "# for cond in [0,1,2]:\n",
    "#     grps.append( dfCorrectBySub[(dfCorrectBySub.condLab == cond) & (dfCorrectBySub.ageGrps == age )].logRT) \n"
   ]
  },
  {
   "cell_type": "code",
   "execution_count": 113,
   "metadata": {
    "collapsed": false
   },
   "outputs": [
    {
     "data": {
      "text/html": [
       "<div>\n",
       "<table border=\"1\" class=\"dataframe\">\n",
       "  <thead>\n",
       "    <tr style=\"text-align: right;\">\n",
       "      <th></th>\n",
       "      <th>condLab</th>\n",
       "      <th>subid</th>\n",
       "      <th>trial</th>\n",
       "      <th>block</th>\n",
       "      <th>acc</th>\n",
       "      <th>RT</th>\n",
       "      <th>age</th>\n",
       "      <th>lookLoc</th>\n",
       "      <th>isLabeled</th>\n",
       "      <th>pracBlock</th>\n",
       "      <th>peakBlock</th>\n",
       "      <th>maxBlock</th>\n",
       "      <th>windAcc</th>\n",
       "      <th>isLearner</th>\n",
       "      <th>pVal</th>\n",
       "      <th>logRT</th>\n",
       "    </tr>\n",
       "  </thead>\n",
       "  <tbody>\n",
       "    <tr>\n",
       "      <th>0</th>\n",
       "      <td>0</td>\n",
       "      <td>4786.615385</td>\n",
       "      <td>29.463466</td>\n",
       "      <td>3.233476</td>\n",
       "      <td>0.511503</td>\n",
       "      <td>3752.611409</td>\n",
       "      <td>21.769231</td>\n",
       "      <td>1.459712</td>\n",
       "      <td>False</td>\n",
       "      <td>3.233476</td>\n",
       "      <td>1.615385</td>\n",
       "      <td>2.461538</td>\n",
       "      <td>0.522042</td>\n",
       "      <td>0.230769</td>\n",
       "      <td>0.085082</td>\n",
       "      <td>8.123182</td>\n",
       "    </tr>\n",
       "    <tr>\n",
       "      <th>1</th>\n",
       "      <td>1</td>\n",
       "      <td>4876.444444</td>\n",
       "      <td>28.847477</td>\n",
       "      <td>2.795075</td>\n",
       "      <td>0.433323</td>\n",
       "      <td>3890.498804</td>\n",
       "      <td>20.111111</td>\n",
       "      <td>1.544455</td>\n",
       "      <td>False</td>\n",
       "      <td>2.795075</td>\n",
       "      <td>1.222222</td>\n",
       "      <td>1.222222</td>\n",
       "      <td>0.466583</td>\n",
       "      <td>0.000000</td>\n",
       "      <td>0.186347</td>\n",
       "      <td>8.160877</td>\n",
       "    </tr>\n",
       "    <tr>\n",
       "      <th>2</th>\n",
       "      <td>2</td>\n",
       "      <td>5078.375000</td>\n",
       "      <td>29.266222</td>\n",
       "      <td>2.865691</td>\n",
       "      <td>0.517895</td>\n",
       "      <td>3616.004040</td>\n",
       "      <td>21.812500</td>\n",
       "      <td>1.590128</td>\n",
       "      <td>False</td>\n",
       "      <td>2.865691</td>\n",
       "      <td>1.250000</td>\n",
       "      <td>1.250000</td>\n",
       "      <td>0.789457</td>\n",
       "      <td>0.062500</td>\n",
       "      <td>0.183297</td>\n",
       "      <td>8.137487</td>\n",
       "    </tr>\n",
       "  </tbody>\n",
       "</table>\n",
       "</div>"
      ],
      "text/plain": [
       "   condLab        subid      trial     block       acc           RT  \\\n",
       "0        0  4786.615385  29.463466  3.233476  0.511503  3752.611409   \n",
       "1        1  4876.444444  28.847477  2.795075  0.433323  3890.498804   \n",
       "2        2  5078.375000  29.266222  2.865691  0.517895  3616.004040   \n",
       "\n",
       "         age   lookLoc isLabeled  pracBlock  peakBlock  maxBlock   windAcc  \\\n",
       "0  21.769231  1.459712     False   3.233476   1.615385  2.461538  0.522042   \n",
       "1  20.111111  1.544455     False   2.795075   1.222222  1.222222  0.466583   \n",
       "2  21.812500  1.590128     False   2.865691   1.250000  1.250000  0.789457   \n",
       "\n",
       "   isLearner      pVal     logRT  \n",
       "0   0.230769  0.085082  8.123182  \n",
       "1   0.000000  0.186347  8.160877  \n",
       "2   0.062500  0.183297  8.137487  "
      ]
     },
     "execution_count": 113,
     "metadata": {},
     "output_type": "execute_result"
    }
   ],
   "source": [
    "x"
   ]
  },
  {
   "cell_type": "code",
   "execution_count": 114,
   "metadata": {
    "collapsed": false
   },
   "outputs": [],
   "source": [
    "# output the accuracy information for further analysis\n",
    "dfNoLabOnlyCorrect[ dfNoLabOnlyCorrect.ageGrps != 'group1'].dropna().to_csv('dfNoLabCorrectGrps12.txt',sep=',')"
   ]
  },
  {
   "cell_type": "code",
   "execution_count": 115,
   "metadata": {
    "collapsed": false,
    "scrolled": true
   },
   "outputs": [
    {
     "name": "stdout",
     "output_type": "stream",
     "text": [
      "Number of participants per condition and age group\n",
      "condLab  ageGrps\n",
      "0        group1      5\n",
      "         group2      9\n",
      "         group3     13\n",
      "1        group1     16\n",
      "         group2     12\n",
      "         group3      9\n",
      "2        group2     13\n",
      "         group3     16\n",
      "Name: subid, dtype: int64\n",
      "\n",
      "average age in months\n",
      "condLab  ageGrps\n",
      "0        group1      8.200000\n",
      "         group2     15.333333\n",
      "         group3     21.769231\n",
      "1        group1      8.625000\n",
      "         group2     12.833333\n",
      "         group3     20.111111\n",
      "2        group2     13.692308\n",
      "         group3     21.812500\n",
      "Name: age, dtype: float64\n"
     ]
    }
   ],
   "source": [
    "# output the number of participants per condition and age group\n",
    "print( \"Number of participants per condition and age group\")\n",
    "print dfCorrectBySub.groupby(['condLab', 'ageGrps']).count()['subid']\n",
    "\n",
    "# output the average ages\n",
    "print( \"\\naverage age in months\")\n",
    "print dfCorrectBySub.groupby(['condLab', 'ageGrps']).mean()['age']\n"
   ]
  },
  {
   "cell_type": "code",
   "execution_count": null,
   "metadata": {
    "collapsed": true
   },
   "outputs": [],
   "source": []
  },
  {
   "cell_type": "code",
   "execution_count": null,
   "metadata": {
    "collapsed": false
   },
   "outputs": [],
   "source": []
  },
  {
   "cell_type": "code",
   "execution_count": null,
   "metadata": {
    "collapsed": true
   },
   "outputs": [],
   "source": []
  }
 ],
 "metadata": {
  "kernelspec": {
   "display_name": "Python 2",
   "language": "python",
   "name": "python2"
  },
  "language_info": {
   "codemirror_mode": {
    "name": "ipython",
    "version": 2
   },
   "file_extension": ".py",
   "mimetype": "text/x-python",
   "name": "python",
   "nbconvert_exporter": "python",
   "pygments_lexer": "ipython2",
   "version": "2.7.11"
  }
 },
 "nbformat": 4,
 "nbformat_minor": 0
}
