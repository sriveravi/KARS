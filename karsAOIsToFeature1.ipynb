{
 "metadata": {
  "name": "",
  "signature": "sha256:ae132e0a4dfb071e54cf95b28a01dd619ce2dc06d2f5cfc52f69f6bc1588ea97"
 },
 "nbformat": 3,
 "nbformat_minor": 0,
 "worksheets": [
  {
   "cells": [
    {
     "cell_type": "code",
     "collapsed": false,
     "input": [
      "import pandas as pd\n",
      "import numpy as np\n",
      "import os as os\n",
      "\n",
      "pd.set_option('display.max_columns', 500)\n",
      "\n",
      "%pylab inline"
     ],
     "language": "python",
     "metadata": {},
     "outputs": [
      {
       "output_type": "stream",
       "stream": "stdout",
       "text": [
        "Populating the interactive namespace from numpy and matplotlib\n"
       ]
      }
     ],
     "prompt_number": 142
    },
    {
     "cell_type": "code",
     "collapsed": false,
     "input": [
      "# read in data table\n",
      "f = '../allFixTable_KARS_Base.txt'\n",
      "df = pd.read_csv( f, sep='\\t',low_memory=False )\n",
      "#df"
     ],
     "language": "python",
     "metadata": {},
     "outputs": [],
     "prompt_number": 143
    },
    {
     "cell_type": "code",
     "collapsed": false,
     "input": [
      "# keep only fixations at background image.  Kick out saccade data\n",
      "# df.drop(['sacEndPosX','sacEndPosY','sacStartPosX', 'sacStartPosY','sacStartTime','sacEndTime','sacVel', 'sacDuration','sacAmp','sacAois'], axis=1, inplace=True)\n",
      "# df.drop(['loomimg'], axis=1, inplace=True)\n",
      "df = df[['subId','trial','loomvid','fixDuration','fixAois','pupil','lastMessage', 'acc','look_loc','look_rt']] \n",
      "\n",
      "\n",
      "df = df[ df.lastMessage == 'BackgroundFrame']\n",
      "df = df[ df.fixAois.notnull()]\n",
      "# df"
     ],
     "language": "python",
     "metadata": {},
     "outputs": [],
     "prompt_number": 144
    },
    {
     "cell_type": "code",
     "collapsed": false,
     "input": [
      "# map the fixAOIs to the feature index  (in that direction)\n",
      "aoiDict= {'1':1, '2':2, '3':4, '4':7, '5':4, '6':6, '7':5, '8':np.nan  }\n",
      "df['nameFeatIdx' ] = df.fixAois.apply( lambda(x): aoiDict[str(int(x))] )\n",
      "df = df[ df.nameFeatIdx.notnull()]\n",
      "# get feature vector name (loomvid)\n",
      "df['featVect'] = df.loomvid.apply(lambda(x): x.split('_')[2] )\n",
      "df.drop( 'loomvid', axis=1, inplace=True)\n",
      "\n",
      "# tag the extra features to it\n",
      "catLabTag = { 'R':'00B','Q':'11A' } # add color, label, catLetter for figure drawing (A/B)\n",
      "df['longFeatVect'] = df.featVect.apply( lambda(x): x[1:]+catLabTag[x[0]])\n",
      "df = df.reset_index()\n",
      "# df\n",
      "\n",
      "\n"
     ],
     "language": "python",
     "metadata": {},
     "outputs": [],
     "prompt_number": 145
    },
    {
     "cell_type": "code",
     "collapsed": false,
     "input": [
      "outDir = 'FeatSeenBySub/'\n",
      "if not os.path.exists( outDir):\n",
      "    os.mkdir(outDir)\n",
      "\n",
      "\n",
      "# go through every subject and trial, make a by subject  feature matrix\n",
      "cols = ['Antenna','Mouth','Back','Hand','Feet','Tail','Body','Color','Label', ' ']\n",
      "\n",
      "for s in df.subId.unique():\n",
      "    # to store all feature vectors seen for a participant\n",
      "    subFeats = []\n",
      "   \n",
      "    for t in df[ df.subId ==s].trial.unique():\n",
      "        tr = df[(df.subId ==s) & (df.trial ==t)  ]\n",
      "        \n",
      "        # get unseen features            \n",
      "        missed = range(1,8)\n",
      "        missed = [ x for x in missed if x not in tr.nameFeatIdx.unique()]\n",
      "        # make the unseen ones .5 in long feature vector\n",
      "        longFeat = list(tr.longFeatVect.iloc[0])\n",
      "        for m in missed:\n",
      "            longFeat[m-1] = '0.5'\n",
      "        longFeat = ','.join(longFeat).split(',')\n",
      "        subFeats.append(longFeat)\n",
      "    \n",
      "    # make and export dataframe    \n",
      "    subDF = pd.DataFrame( subFeats, columns=cols)  \n",
      "    subDF.to_csv( outDir+s+'.csv',sep=',', index=False )\n",
      "    \n",
      "  "
     ],
     "language": "python",
     "metadata": {},
     "outputs": [],
     "prompt_number": 146
    },
    {
     "cell_type": "code",
     "collapsed": false,
     "input": [],
     "language": "python",
     "metadata": {},
     "outputs": [],
     "prompt_number": 146
    },
    {
     "cell_type": "code",
     "collapsed": false,
     "input": [],
     "language": "python",
     "metadata": {},
     "outputs": [],
     "prompt_number": 146
    },
    {
     "cell_type": "code",
     "collapsed": false,
     "input": [],
     "language": "python",
     "metadata": {},
     "outputs": [],
     "prompt_number": 146
    },
    {
     "cell_type": "code",
     "collapsed": false,
     "input": [],
     "language": "python",
     "metadata": {},
     "outputs": [],
     "prompt_number": 146
    }
   ],
   "metadata": {}
  }
 ]
}