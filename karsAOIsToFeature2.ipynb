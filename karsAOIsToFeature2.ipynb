{
 "metadata": {
  "name": "",
  "signature": "sha256:972245b73d10455a218c278d275420177d39cd814791e6a02034d1306788eb16"
 },
 "nbformat": 3,
 "nbformat_minor": 0,
 "worksheets": [
  {
   "cells": [
    {
     "cell_type": "code",
     "collapsed": false,
     "input": [
      "import pandas as pd\n",
      "import numpy as np\n",
      "import os as os\n",
      "\n",
      "pd.set_option('display.max_columns', 500)\n",
      "\n",
      "%pylab inline"
     ],
     "language": "python",
     "metadata": {},
     "outputs": [
      {
       "output_type": "stream",
       "stream": "stdout",
       "text": [
        "Populating the interactive namespace from numpy and matplotlib\n"
       ]
      },
      {
       "output_type": "stream",
       "stream": "stderr",
       "text": [
        "WARNING: pylab import has clobbered these variables: ['f']\n",
        "`%matplotlib` prevents importing * from pylab and numpy\n"
       ]
      }
     ],
     "prompt_number": 34
    },
    {
     "cell_type": "code",
     "collapsed": false,
     "input": [
      "# read in data table\n",
      "f = '../allFixTable_KARS_Base.txt'\n",
      "df = pd.read_csv( f, sep='\\t',low_memory=False )\n",
      "#df"
     ],
     "language": "python",
     "metadata": {},
     "outputs": [],
     "prompt_number": 35
    },
    {
     "cell_type": "code",
     "collapsed": false,
     "input": [
      "# keep only fixations at background image.  Kick out saccade data\n",
      "# df.drop(['sacEndPosX','sacEndPosY','sacStartPosX', 'sacStartPosY','sacStartTime','sacEndTime','sacVel', 'sacDuration','sacAmp','sacAois'], axis=1, inplace=True)\n",
      "# df.drop(['loomimg'], axis=1, inplace=True)\n",
      "df = df[['subId','trial','loomvid','fixDuration','fixAois','pupil','lastMessage', 'acc','look_loc','look_rt']] \n",
      "\n",
      "\n",
      "df = df[ df.lastMessage == 'BackgroundFrame']\n",
      "df = df[ df.fixAois.notnull()]\n",
      "# df"
     ],
     "language": "python",
     "metadata": {},
     "outputs": [],
     "prompt_number": 36
    },
    {
     "cell_type": "code",
     "collapsed": false,
     "input": [
      "# map the fixAOIs to the feature index  (in that direction)\n",
      "aoiDict= {'1':1, '2':2, '3':4, '4':7, '5':4, '6':6, '7':5, '8':np.nan  }\n",
      "df['nameFeatIdx' ] = df.fixAois.apply( lambda(x): aoiDict[str(int(x))] )\n",
      "df = df[ df.nameFeatIdx.notnull()]\n",
      "# get feature vector name (loomvid)\n",
      "df['featVect'] = df.loomvid.apply(lambda(x): x.split('_')[2] )\n",
      "df.drop( 'loomvid', axis=1, inplace=True)\n",
      "\n",
      "# tag the extra features to it\n",
      "catLabTag = { 'R':'00B','Q':'11A' } # add color, label, catLetter for figure drawing (A/B)\n",
      "df['longFeatVect'] = df.featVect.apply( lambda(x): x[1:]+catLabTag[x[0]])\n",
      "df = df.reset_index()\n",
      "\n",
      "# set to NAN when participants did not make response\n",
      "df.ix[df.look_rt ==-1,'acc' ] = np.nan\n",
      "df.ix[df.look_rt ==-1,'look_rt' ] = np.nan\n",
      "df.ix[df.look_rt ==-1,'look_loc' ] = np.nan\n",
      "\n",
      "\n"
     ],
     "language": "python",
     "metadata": {},
     "outputs": [],
     "prompt_number": 37
    },
    {
     "cell_type": "code",
     "collapsed": false,
     "input": [
      "# df"
     ],
     "language": "python",
     "metadata": {},
     "outputs": [],
     "prompt_number": 38
    },
    {
     "cell_type": "code",
     "collapsed": false,
     "input": [
      "# save a csv text file for each participant based on what they saw on each trial, as well as accuracy\n",
      "\n",
      "outDir = 'FeatSeenBySub/'\n",
      "if not os.path.exists( outDir):\n",
      "    os.mkdir(outDir)\n",
      "\n",
      "# go through every subject and trial, make a by subject  feature matrix\n",
      "cols = ['Antenna','Mouth','Back','Hand','Feet','Tail','Body','Color','Label', 'accuracy']\n",
      "\n",
      "for s in df.subId.unique():\n",
      "    # to store all feature vectors seen for a participant\n",
      "    subFeats = []\n",
      "   \n",
      "    f = open( outDir+s+'.csv', 'w')\n",
      "    f.write( ','.join(cols) + '\\n' )\n",
      "    for t in df[ df.subId ==s].trial.unique():\n",
      "        tr = df[(df.subId ==s) & (df.trial ==t)  ]\n",
      "        \n",
      "        # get unseen features            \n",
      "        missed = range(1,8)\n",
      "        missed = [ x for x in missed if x not in tr.nameFeatIdx.unique()]\n",
      "        # make the unseen ones .5 in long feature vector\n",
      "        longFeat = list(tr.longFeatVect.iloc[0])\n",
      "        for m in missed:\n",
      "            longFeat[m-1] = '0.5'\n",
      "        longFeat = ','.join(longFeat) #.split(',')\n",
      "        f.write( longFeat +',' + str(tr.acc.iloc[0]) +'\\n')  #features and accuracy\n",
      "#         subFeats.append(longFeat)\n",
      "    f.close()\n",
      "    # make and export dataframe    \n",
      "#     subDF = pd.DataFrame( subFeats, columns=cols)  \n",
      "#     subDF.to_csv( outDir+s+'.csv',sep=',', index=False )\n",
      "    \n",
      "  "
     ],
     "language": "python",
     "metadata": {},
     "outputs": [],
     "prompt_number": 39
    },
    {
     "cell_type": "code",
     "collapsed": false,
     "input": [],
     "language": "python",
     "metadata": {},
     "outputs": [],
     "prompt_number": 40
    },
    {
     "cell_type": "code",
     "collapsed": false,
     "input": [],
     "language": "python",
     "metadata": {},
     "outputs": [],
     "prompt_number": 40
    },
    {
     "cell_type": "code",
     "collapsed": false,
     "input": [],
     "language": "python",
     "metadata": {},
     "outputs": [],
     "prompt_number": 40
    },
    {
     "cell_type": "code",
     "collapsed": false,
     "input": [],
     "language": "python",
     "metadata": {},
     "outputs": [],
     "prompt_number": 40
    }
   ],
   "metadata": {}
  }
 ]
}